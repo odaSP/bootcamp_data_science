{
  "nbformat": 4,
  "nbformat_minor": 0,
  "metadata": {
    "kernelspec": {
      "display_name": "Python 3",
      "language": "python",
      "name": "python3"
    },
    "language_info": {
      "codemirror_mode": {
        "name": "ipython",
        "version": 3
      },
      "file_extension": ".py",
      "mimetype": "text/x-python",
      "name": "python",
      "nbconvert_exporter": "python",
      "pygments_lexer": "ipython3",
      "version": "3.6.9"
    },
    "colab": {
      "name": "4-ejercicios.ipynb",
      "provenance": [],
      "collapsed_sections": [],
      "include_colab_link": true
    }
  },
  "cells": [
    {
      "cell_type": "markdown",
      "metadata": {
        "id": "view-in-github",
        "colab_type": "text"
      },
      "source": [
        "<a href=\"https://colab.research.google.com/github/odaSP/bootcamp_data_science/blob/master/4_ejercicios.ipynb\" target=\"_parent\"><img src=\"https://colab.research.google.com/assets/colab-badge.svg\" alt=\"Open In Colab\"/></a>"
      ]
    },
    {
      "cell_type": "markdown",
      "metadata": {
        "id": "NHKK9KIo1_T0",
        "colab_type": "text"
      },
      "source": [
        "# Work Out - Introducción a Python"
      ]
    },
    {
      "cell_type": "markdown",
      "metadata": {
        "id": "LdBoHqol1_T1",
        "colab_type": "text"
      },
      "source": [
        "## Crear un programa que calcule la cuota de una hipoteca\n",
        "\n",
        "Las cuotas hipotecarias se calculan utilizando la fórmula del interés frances. El objetivo del ejercicio es crear un programa que solicite al usuario los datos de su hipoteca (cantidad, intereses, y plazo en años) y le devuelva la cuota mensual a pagar\n",
        "\n",
        "La formula del interés frances es la siguiente:\n",
        "\\begin{align*}\n",
        "C=V \\frac{(1+i)^n i}{(1+i)^n -1}\n",
        "\\end{align*}\n",
        "\n",
        "\n",
        "    C = Cuota a pagar\n",
        "    V = Cantidad del préstamo hipotecario\n",
        "    i = tipo de interés del período\n",
        "    n = número de cuotas\n",
        "\n"
      ]
    },
    {
      "cell_type": "code",
      "metadata": {
        "id": "OaQqyCJY1_T3",
        "colab_type": "code",
        "colab": {}
      },
      "source": [
        "# tu codigo va aquí\n",
        "\n"
      ],
      "execution_count": 0,
      "outputs": []
    },
    {
      "cell_type": "markdown",
      "metadata": {
        "id": "zWC15Xn91_UA",
        "colab_type": "text"
      },
      "source": [
        "# Crear un programa que calcule el plan de amortización\n",
        "\n",
        "El objetivo del ejercicio es crear un programa que solicite al usuario los datos de su hipoteca (cantidad, intereses, y plazo en años) y le devuelva el plan de amortización.\n",
        "\n",
        "En cada cuota se pagan intereses por el capital restante, y se devuelve capital hasta la cuota mensual. El capital restante ha de ser actualizado restandole el capital devuelto.\n"
      ]
    },
    {
      "cell_type": "markdown",
      "metadata": {
        "id": "gCsJhQe_1_UB",
        "colab_type": "text"
      },
      "source": [
        "Salida ejemplo:\n",
        "\n",
        "mes  cuota    intereses  principal   pendiente   \n",
        "\n",
        "0    758.89   450.00     308.89      179691.11 "
      ]
    },
    {
      "cell_type": "code",
      "metadata": {
        "id": "nVQSjcGi1_UD",
        "colab_type": "code",
        "colab": {}
      },
      "source": [
        "# tu codigo va aquí\n",
        "\n"
      ],
      "execution_count": 0,
      "outputs": []
    },
    {
      "cell_type": "markdown",
      "metadata": {
        "id": "TuCsEV2Y1_UJ",
        "colab_type": "text"
      },
      "source": [
        "# Crear un programa que resuelva una ecuacción de segundo grado\n",
        "\n",
        "El objetivo del programa es resolver la ecuacción de sgundo grado \n",
        "\n",
        "\\begin{align*}\n",
        "ax^2+bx+c = 0\n",
        "\\end{align*}\n",
        "\n",
        "Pasando como parámetros los coeficientes de la ecuacción. La resolución de la ecuacción es la siguiente:\n",
        "\n",
        "\\begin{align*}\n",
        "x=\\frac{-b \\pm \\sqrt{b^2-4ac}}{2a}\n",
        "\\end{align*}\n",
        "\n",
        "Para realizar este programa tienes que utilizar el metodo sqrt() para calcular la raiz cuadrada. Para ello tienes que importar el módulo math. Así que tu programa debería empezar con ```ìmport math```\n"
      ]
    },
    {
      "cell_type": "code",
      "metadata": {
        "id": "FHw0kA7c1_UK",
        "colab_type": "code",
        "colab": {}
      },
      "source": [
        "# tu codigo aqui. Tenemos que usar la funcion sqrt del módulo math\n",
        "\n",
        "import math\n",
        "\n",
        "\n"
      ],
      "execution_count": 0,
      "outputs": []
    },
    {
      "cell_type": "markdown",
      "metadata": {
        "id": "1PGrrc0v1_UP",
        "colab_type": "text"
      },
      "source": [
        "## Crear un programa que calcule el factorial de un numero\n",
        "El programa pedirá al usuario que introduzca un número y devolverá el factorial de ese número\n"
      ]
    },
    {
      "cell_type": "code",
      "metadata": {
        "id": "7lg1EwOt1_UR",
        "colab_type": "code",
        "colab": {}
      },
      "source": [
        "\n",
        "# tu codigo aqui.\n",
        "\n"
      ],
      "execution_count": 0,
      "outputs": []
    },
    {
      "cell_type": "markdown",
      "metadata": {
        "id": "C9XWICFe1_UW",
        "colab_type": "text"
      },
      "source": [
        "## Crear un programa que calcule el average\n",
        "\n",
        "El programa pedirá al usuario que introduzca numeros. En primer lugar le pedirá que indique cuantos números se quieren introducir, y enseñara un prompt para incluirlos, y calculará el average.\n",
        "\n"
      ]
    },
    {
      "cell_type": "code",
      "metadata": {
        "id": "d8Lzg-rl1_UX",
        "colab_type": "code",
        "colab": {}
      },
      "source": [
        ""
      ],
      "execution_count": 0,
      "outputs": []
    },
    {
      "cell_type": "markdown",
      "metadata": {
        "id": "TVKI5d6b1_Ub",
        "colab_type": "text"
      },
      "source": [
        "## Modifica el programa del Valor Futuro para que el periodo sea definido por el usuario"
      ]
    },
    {
      "cell_type": "code",
      "metadata": {
        "id": "xxKJLVaj1_Uc",
        "colab_type": "code",
        "colab": {}
      },
      "source": [
        ""
      ],
      "execution_count": 0,
      "outputs": []
    }
  ]
}